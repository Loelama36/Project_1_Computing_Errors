{
  "nbformat": 4,
  "nbformat_minor": 0,
  "metadata": {
    "colab": {
      "name": "Copy of project 3",
      "provenance": [],
      "collapsed_sections": [],
      "include_colab_link": true
    },
    "kernelspec": {
      "name": "python3",
      "display_name": "Python 3"
    }
  },
  "cells": [
    {
      "cell_type": "markdown",
      "metadata": {
        "id": "view-in-github",
        "colab_type": "text"
      },
      "source": [
        "<a href=\"https://colab.research.google.com/github/Loelama36/Project_1_Computing_Errors/blob/main/Project3.ipynb\" target=\"_parent\"><img src=\"https://colab.research.google.com/assets/colab-badge.svg\" alt=\"Open In Colab\"/></a>"
      ]
    },
    {
      "cell_type": "markdown",
      "metadata": {
        "id": "hpUgk7jLuwl7"
      },
      "source": [
        "# Project 3\r\n"
      ]
    },
    {
      "cell_type": "markdown",
      "metadata": {
        "id": "5p7BEtMdu1ki"
      },
      "source": [
        "Jacob Mantooth<br>\r\n",
        "Sunil Lama<br>\r\n",
        "Riwaz Gyawali<br>\r\n",
        "Puran Subedi<br>"
      ]
    },
    {
      "cell_type": "markdown",
      "metadata": {
        "id": "4ZQ8OgMpAPWZ"
      },
      "source": [
        "# Newton-Raphson Method"
      ]
    },
    {
      "cell_type": "markdown",
      "metadata": {
        "id": "U_NPgMqCvFe_"
      },
      "source": [
        "\r\n",
        "Newton's method is used to find the quick approximation of the root of a function<br>\r\n",
        "It is calculated using the iterative with where the first is given. The formula is :- $$\r\n",
        "x_{i+1}= x_i-\\frac{f(x_i)}{f'(x_i)}\r\n",
        "$$"
      ]
    },
    {
      "cell_type": "markdown",
      "metadata": {
        "id": "vNJ4Xh9VAVCl"
      },
      "source": [
        ""
      ]
    },
    {
      "cell_type": "code",
      "metadata": {
        "id": "ke0CZ9JWrEUX"
      },
      "source": [
        "\r\n",
        "import math\r\n",
        "\r\n",
        "pi = math.pi\r\n",
        "\r\n",
        "\r\n",
        "\r\n",
        "def newtonFind(fx, dfx, currentNum):\r\n",
        "  return currentNum - fx(currentNum)/(-dfx(currentNum))\r\n",
        "  #had to put a - up here cause i didnt want to work with -sin\r\n",
        "\r\n",
        "def newtonRapshon(fx, dfx, start, tolerrance, maxFind):\r\n",
        "  num = start\r\n",
        "  for counter in range(maxFind):\r\n",
        "    if dfx(num) == 0:\r\n",
        "    #  print('Zero derivative, no solution')\r\n",
        "      return None\r\n",
        "    if abs(fx(num))< tolerrance:\r\n",
        "      return [num,counter]\r\n",
        "    num = newtonFind(fx, dfx, num)\r\n",
        " # print('Max iterations exceeded')\r\n",
        "  return None"
      ],
      "execution_count": 1,
      "outputs": []
    },
    {
      "cell_type": "code",
      "metadata": {
        "id": "z2YCjmfkrptY",
        "colab": {
          "base_uri": "https://localhost:8080/"
        },
        "outputId": "0b65fa0c-508f-4091-fe9a-bcc3000f1572"
      },
      "source": [
        "newtonRapshon(math.cos,math.sin,pi/2,.00001,20)"
      ],
      "execution_count": 2,
      "outputs": [
        {
          "output_type": "execute_result",
          "data": {
            "text/plain": [
              "[1.5707963267948966, 0]"
            ]
          },
          "metadata": {
            "tags": []
          },
          "execution_count": 2
        }
      ]
    },
    {
      "cell_type": "code",
      "metadata": {
        "id": "xwnHgmTvrwEV"
      },
      "source": [
        "seedNum = [pi/4,pi/2,pi/4+.1,1,3,10,15,3*pi/2+.01,pi+.01]\r\n",
        "branch = []\r\n",
        "finder = []\r\n",
        "for seed in seedNum:\r\n",
        "  if newtonRapshon(math.cos,math.sin,seed,.00001,30) != None:\r\n",
        "    branch.append(newtonRapshon(math.cos,math.sin,seed,.00001,20)[0])\r\n",
        "    finder.append(newtonRapshon(math.cos,math.sin,seed,.00001,20)[1])\r\n",
        "  else:\r\n",
        "    branch.append('None Found')\r\n",
        "    finder.append('>20')"
      ],
      "execution_count": 3,
      "outputs": []
    },
    {
      "cell_type": "code",
      "metadata": {
        "id": "gO8xlLnzryfe",
        "colab": {
          "base_uri": "https://localhost:8080/",
          "height": 542
        },
        "outputId": "650b4a3f-a04a-4e68-d20a-79f9ad5a4f24"
      },
      "source": [
        "import plotly.graph_objects as go\r\n",
        "from plotly.subplots import make_subplots\r\n",
        "\r\n",
        "fig = go.Figure(data=[go.Table(\r\n",
        "                header=dict(values=['Seeds', 'Roots', 'Iterations'],line_color='lime',\r\n",
        "\r\n",
        "                fill_color='plum',\r\n",
        "\r\n",
        "                align='center'),\r\n",
        "                 cells=dict(values = [seedNum,branch,finder],\r\n",
        "                  line_color='lime',\r\n",
        "\r\n",
        "                 fill_color='white',\r\n",
        "\r\n",
        "                 align='center'))\r\n",
        "                     ])\r\n",
        "fig.show()"
      ],
      "execution_count": 4,
      "outputs": [
        {
          "output_type": "display_data",
          "data": {
            "text/html": [
              "<html>\n",
              "<head><meta charset=\"utf-8\" /></head>\n",
              "<body>\n",
              "    <div>\n",
              "            <script src=\"https://cdnjs.cloudflare.com/ajax/libs/mathjax/2.7.5/MathJax.js?config=TeX-AMS-MML_SVG\"></script><script type=\"text/javascript\">if (window.MathJax) {MathJax.Hub.Config({SVG: {font: \"STIX-Web\"}});}</script>\n",
              "                <script type=\"text/javascript\">window.PlotlyConfig = {MathJaxConfig: 'local'};</script>\n",
              "        <script src=\"https://cdn.plot.ly/plotly-latest.min.js\"></script>    \n",
              "            <div id=\"85d38411-eab7-4956-a9e6-211eb600d4f3\" class=\"plotly-graph-div\" style=\"height:525px; width:100%;\"></div>\n",
              "            <script type=\"text/javascript\">\n",
              "                \n",
              "                    window.PLOTLYENV=window.PLOTLYENV || {};\n",
              "                    \n",
              "                if (document.getElementById(\"85d38411-eab7-4956-a9e6-211eb600d4f3\")) {\n",
              "                    Plotly.newPlot(\n",
              "                        '85d38411-eab7-4956-a9e6-211eb600d4f3',\n",
              "                        [{\"cells\": {\"align\": \"center\", \"fill\": {\"color\": \"white\"}, \"line\": {\"color\": \"lime\"}, \"values\": [[0.7853981633974483, 1.5707963267948966, 0.8853981633974483, 1, 3, 10, 15, 4.7223889803846895, 3.151592653589793], [1.5707963393971502, 1.5707963267948966, 1.570796326950726, 1.5707963267954879, -4.712388980650428, 10.99557428756411, 14.137166621326141, 4.712388647038023, 102.10176124180637], [3, 0, 3, 3, 4, 4, 3, 1, 5]]}, \"header\": {\"align\": \"center\", \"fill\": {\"color\": \"plum\"}, \"line\": {\"color\": \"lime\"}, \"values\": [\"Seeds\", \"Roots\", \"Iterations\"]}, \"type\": \"table\"}],\n",
              "                        {\"template\": {\"data\": {\"bar\": [{\"error_x\": {\"color\": \"#2a3f5f\"}, \"error_y\": {\"color\": \"#2a3f5f\"}, \"marker\": {\"line\": {\"color\": \"#E5ECF6\", \"width\": 0.5}}, \"type\": \"bar\"}], \"barpolar\": [{\"marker\": {\"line\": {\"color\": \"#E5ECF6\", \"width\": 0.5}}, \"type\": \"barpolar\"}], \"carpet\": [{\"aaxis\": {\"endlinecolor\": \"#2a3f5f\", \"gridcolor\": \"white\", \"linecolor\": \"white\", \"minorgridcolor\": \"white\", \"startlinecolor\": \"#2a3f5f\"}, \"baxis\": {\"endlinecolor\": \"#2a3f5f\", \"gridcolor\": \"white\", \"linecolor\": \"white\", \"minorgridcolor\": \"white\", \"startlinecolor\": \"#2a3f5f\"}, \"type\": \"carpet\"}], \"choropleth\": [{\"colorbar\": {\"outlinewidth\": 0, \"ticks\": \"\"}, \"type\": \"choropleth\"}], \"contour\": [{\"colorbar\": {\"outlinewidth\": 0, \"ticks\": \"\"}, \"colorscale\": [[0.0, \"#0d0887\"], [0.1111111111111111, \"#46039f\"], [0.2222222222222222, \"#7201a8\"], [0.3333333333333333, \"#9c179e\"], [0.4444444444444444, \"#bd3786\"], [0.5555555555555556, \"#d8576b\"], [0.6666666666666666, \"#ed7953\"], [0.7777777777777778, \"#fb9f3a\"], [0.8888888888888888, \"#fdca26\"], [1.0, \"#f0f921\"]], \"type\": \"contour\"}], \"contourcarpet\": [{\"colorbar\": {\"outlinewidth\": 0, \"ticks\": \"\"}, \"type\": \"contourcarpet\"}], \"heatmap\": [{\"colorbar\": {\"outlinewidth\": 0, \"ticks\": \"\"}, \"colorscale\": [[0.0, \"#0d0887\"], [0.1111111111111111, \"#46039f\"], [0.2222222222222222, \"#7201a8\"], [0.3333333333333333, \"#9c179e\"], [0.4444444444444444, \"#bd3786\"], [0.5555555555555556, \"#d8576b\"], [0.6666666666666666, \"#ed7953\"], [0.7777777777777778, \"#fb9f3a\"], [0.8888888888888888, \"#fdca26\"], [1.0, \"#f0f921\"]], \"type\": \"heatmap\"}], \"heatmapgl\": [{\"colorbar\": {\"outlinewidth\": 0, \"ticks\": \"\"}, \"colorscale\": [[0.0, \"#0d0887\"], [0.1111111111111111, \"#46039f\"], [0.2222222222222222, \"#7201a8\"], [0.3333333333333333, \"#9c179e\"], [0.4444444444444444, \"#bd3786\"], [0.5555555555555556, \"#d8576b\"], [0.6666666666666666, \"#ed7953\"], [0.7777777777777778, \"#fb9f3a\"], [0.8888888888888888, \"#fdca26\"], [1.0, \"#f0f921\"]], \"type\": \"heatmapgl\"}], \"histogram\": [{\"marker\": {\"colorbar\": {\"outlinewidth\": 0, \"ticks\": \"\"}}, \"type\": \"histogram\"}], \"histogram2d\": [{\"colorbar\": {\"outlinewidth\": 0, \"ticks\": \"\"}, \"colorscale\": [[0.0, \"#0d0887\"], [0.1111111111111111, \"#46039f\"], [0.2222222222222222, \"#7201a8\"], [0.3333333333333333, \"#9c179e\"], [0.4444444444444444, \"#bd3786\"], [0.5555555555555556, \"#d8576b\"], [0.6666666666666666, \"#ed7953\"], [0.7777777777777778, \"#fb9f3a\"], [0.8888888888888888, \"#fdca26\"], [1.0, \"#f0f921\"]], \"type\": \"histogram2d\"}], \"histogram2dcontour\": [{\"colorbar\": {\"outlinewidth\": 0, \"ticks\": \"\"}, \"colorscale\": [[0.0, \"#0d0887\"], [0.1111111111111111, \"#46039f\"], [0.2222222222222222, \"#7201a8\"], [0.3333333333333333, \"#9c179e\"], [0.4444444444444444, \"#bd3786\"], [0.5555555555555556, \"#d8576b\"], [0.6666666666666666, \"#ed7953\"], [0.7777777777777778, \"#fb9f3a\"], [0.8888888888888888, \"#fdca26\"], [1.0, \"#f0f921\"]], \"type\": \"histogram2dcontour\"}], \"mesh3d\": [{\"colorbar\": {\"outlinewidth\": 0, \"ticks\": \"\"}, \"type\": \"mesh3d\"}], \"parcoords\": [{\"line\": {\"colorbar\": {\"outlinewidth\": 0, \"ticks\": \"\"}}, \"type\": \"parcoords\"}], \"pie\": [{\"automargin\": true, \"type\": \"pie\"}], \"scatter\": [{\"marker\": {\"colorbar\": {\"outlinewidth\": 0, \"ticks\": \"\"}}, \"type\": \"scatter\"}], \"scatter3d\": [{\"line\": {\"colorbar\": {\"outlinewidth\": 0, \"ticks\": \"\"}}, \"marker\": {\"colorbar\": {\"outlinewidth\": 0, \"ticks\": \"\"}}, \"type\": \"scatter3d\"}], \"scattercarpet\": [{\"marker\": {\"colorbar\": {\"outlinewidth\": 0, \"ticks\": \"\"}}, \"type\": \"scattercarpet\"}], \"scattergeo\": [{\"marker\": {\"colorbar\": {\"outlinewidth\": 0, \"ticks\": \"\"}}, \"type\": \"scattergeo\"}], \"scattergl\": [{\"marker\": {\"colorbar\": {\"outlinewidth\": 0, \"ticks\": \"\"}}, \"type\": \"scattergl\"}], \"scattermapbox\": [{\"marker\": {\"colorbar\": {\"outlinewidth\": 0, \"ticks\": \"\"}}, \"type\": \"scattermapbox\"}], \"scatterpolar\": [{\"marker\": {\"colorbar\": {\"outlinewidth\": 0, \"ticks\": \"\"}}, \"type\": \"scatterpolar\"}], \"scatterpolargl\": [{\"marker\": {\"colorbar\": {\"outlinewidth\": 0, \"ticks\": \"\"}}, \"type\": \"scatterpolargl\"}], \"scatterternary\": [{\"marker\": {\"colorbar\": {\"outlinewidth\": 0, \"ticks\": \"\"}}, \"type\": \"scatterternary\"}], \"surface\": [{\"colorbar\": {\"outlinewidth\": 0, \"ticks\": \"\"}, \"colorscale\": [[0.0, \"#0d0887\"], [0.1111111111111111, \"#46039f\"], [0.2222222222222222, \"#7201a8\"], [0.3333333333333333, \"#9c179e\"], [0.4444444444444444, \"#bd3786\"], [0.5555555555555556, \"#d8576b\"], [0.6666666666666666, \"#ed7953\"], [0.7777777777777778, \"#fb9f3a\"], [0.8888888888888888, \"#fdca26\"], [1.0, \"#f0f921\"]], \"type\": \"surface\"}], \"table\": [{\"cells\": {\"fill\": {\"color\": \"#EBF0F8\"}, \"line\": {\"color\": \"white\"}}, \"header\": {\"fill\": {\"color\": \"#C8D4E3\"}, \"line\": {\"color\": \"white\"}}, \"type\": \"table\"}]}, \"layout\": {\"annotationdefaults\": {\"arrowcolor\": \"#2a3f5f\", \"arrowhead\": 0, \"arrowwidth\": 1}, \"coloraxis\": {\"colorbar\": {\"outlinewidth\": 0, \"ticks\": \"\"}}, \"colorscale\": {\"diverging\": [[0, \"#8e0152\"], [0.1, \"#c51b7d\"], [0.2, \"#de77ae\"], [0.3, \"#f1b6da\"], [0.4, \"#fde0ef\"], [0.5, \"#f7f7f7\"], [0.6, \"#e6f5d0\"], [0.7, \"#b8e186\"], [0.8, \"#7fbc41\"], [0.9, \"#4d9221\"], [1, \"#276419\"]], \"sequential\": [[0.0, \"#0d0887\"], [0.1111111111111111, \"#46039f\"], [0.2222222222222222, \"#7201a8\"], [0.3333333333333333, \"#9c179e\"], [0.4444444444444444, \"#bd3786\"], [0.5555555555555556, \"#d8576b\"], [0.6666666666666666, \"#ed7953\"], [0.7777777777777778, \"#fb9f3a\"], [0.8888888888888888, \"#fdca26\"], [1.0, \"#f0f921\"]], \"sequentialminus\": [[0.0, \"#0d0887\"], [0.1111111111111111, \"#46039f\"], [0.2222222222222222, \"#7201a8\"], [0.3333333333333333, \"#9c179e\"], [0.4444444444444444, \"#bd3786\"], [0.5555555555555556, \"#d8576b\"], [0.6666666666666666, \"#ed7953\"], [0.7777777777777778, \"#fb9f3a\"], [0.8888888888888888, \"#fdca26\"], [1.0, \"#f0f921\"]]}, \"colorway\": [\"#636efa\", \"#EF553B\", \"#00cc96\", \"#ab63fa\", \"#FFA15A\", \"#19d3f3\", \"#FF6692\", \"#B6E880\", \"#FF97FF\", \"#FECB52\"], \"font\": {\"color\": \"#2a3f5f\"}, \"geo\": {\"bgcolor\": \"white\", \"lakecolor\": \"white\", \"landcolor\": \"#E5ECF6\", \"showlakes\": true, \"showland\": true, \"subunitcolor\": \"white\"}, \"hoverlabel\": {\"align\": \"left\"}, \"hovermode\": \"closest\", \"mapbox\": {\"style\": \"light\"}, \"paper_bgcolor\": \"white\", \"plot_bgcolor\": \"#E5ECF6\", \"polar\": {\"angularaxis\": {\"gridcolor\": \"white\", \"linecolor\": \"white\", \"ticks\": \"\"}, \"bgcolor\": \"#E5ECF6\", \"radialaxis\": {\"gridcolor\": \"white\", \"linecolor\": \"white\", \"ticks\": \"\"}}, \"scene\": {\"xaxis\": {\"backgroundcolor\": \"#E5ECF6\", \"gridcolor\": \"white\", \"gridwidth\": 2, \"linecolor\": \"white\", \"showbackground\": true, \"ticks\": \"\", \"zerolinecolor\": \"white\"}, \"yaxis\": {\"backgroundcolor\": \"#E5ECF6\", \"gridcolor\": \"white\", \"gridwidth\": 2, \"linecolor\": \"white\", \"showbackground\": true, \"ticks\": \"\", \"zerolinecolor\": \"white\"}, \"zaxis\": {\"backgroundcolor\": \"#E5ECF6\", \"gridcolor\": \"white\", \"gridwidth\": 2, \"linecolor\": \"white\", \"showbackground\": true, \"ticks\": \"\", \"zerolinecolor\": \"white\"}}, \"shapedefaults\": {\"line\": {\"color\": \"#2a3f5f\"}}, \"ternary\": {\"aaxis\": {\"gridcolor\": \"white\", \"linecolor\": \"white\", \"ticks\": \"\"}, \"baxis\": {\"gridcolor\": \"white\", \"linecolor\": \"white\", \"ticks\": \"\"}, \"bgcolor\": \"#E5ECF6\", \"caxis\": {\"gridcolor\": \"white\", \"linecolor\": \"white\", \"ticks\": \"\"}}, \"title\": {\"x\": 0.05}, \"xaxis\": {\"automargin\": true, \"gridcolor\": \"white\", \"linecolor\": \"white\", \"ticks\": \"\", \"title\": {\"standoff\": 15}, \"zerolinecolor\": \"white\", \"zerolinewidth\": 2}, \"yaxis\": {\"automargin\": true, \"gridcolor\": \"white\", \"linecolor\": \"white\", \"ticks\": \"\", \"title\": {\"standoff\": 15}, \"zerolinecolor\": \"white\", \"zerolinewidth\": 2}}}},\n",
              "                        {\"responsive\": true}\n",
              "                    ).then(function(){\n",
              "                            \n",
              "var gd = document.getElementById('85d38411-eab7-4956-a9e6-211eb600d4f3');\n",
              "var x = new MutationObserver(function (mutations, observer) {{\n",
              "        var display = window.getComputedStyle(gd).display;\n",
              "        if (!display || display === 'none') {{\n",
              "            console.log([gd, 'removed!']);\n",
              "            Plotly.purge(gd);\n",
              "            observer.disconnect();\n",
              "        }}\n",
              "}});\n",
              "\n",
              "// Listen for the removal of the full notebook cells\n",
              "var notebookContainer = gd.closest('#notebook-container');\n",
              "if (notebookContainer) {{\n",
              "    x.observe(notebookContainer, {childList: true});\n",
              "}}\n",
              "\n",
              "// Listen for the clearing of the current output cell\n",
              "var outputEl = gd.closest('.output');\n",
              "if (outputEl) {{\n",
              "    x.observe(outputEl, {childList: true});\n",
              "}}\n",
              "\n",
              "                        })\n",
              "                };\n",
              "                \n",
              "            </script>\n",
              "        </div>\n",
              "</body>\n",
              "</html>"
            ]
          },
          "metadata": {
            "tags": []
          }
        }
      ]
    },
    {
      "cell_type": "markdown",
      "metadata": {
        "id": "0XJGVtGQw9RM"
      },
      "source": [
        "# Bisection Method"
      ]
    },
    {
      "cell_type": "markdown",
      "metadata": {
        "id": "MZEoZzXyxG_v"
      },
      "source": [
        "Bisection Method is the process of finding the root of the continuous function where we know the two values with opposite sign.\r\n",
        "In comparison between bisection method and the Newton's method, Newton's method gives us the quadratic rate of convergence. Meanwhile, Bisection method gives the linear rate of convergence."
      ]
    },
    {
      "cell_type": "code",
      "metadata": {
        "id": "uz24LnZM0Nrj"
      },
      "source": [
        "def newNumBisection(xBig, xSmall):\r\n",
        "  num = (xBig+xSmall)/2\r\n",
        "  return num\r\n",
        "\r\n",
        "def positive(fx,xBig,xSmall):\r\n",
        "  numNew = newNumBisection(xBig,xSmall)\r\n",
        "  if fx(xBig)*fx(numNew)< 0:\r\n",
        "    return [xBig, numNew]\r\n",
        "  if fx(xBig)*fx(numNew)>0:\r\n",
        "    return [numNew,xSmall]\r\n",
        "  if fx(xBig)*fx(numNew)==0:\r\n",
        "    return [numNew,numNew]\r\n",
        "\r\n",
        "def fxBisection(fx, startLarge, startSmall, maxFind):\r\n",
        "  num = [startLarge,startSmall]\r\n",
        "  for i in range(maxFind):\r\n",
        "    if num[0] == num[1]:\r\n",
        "      return num[0]\r\n",
        "    else:\r\n",
        "      num = positive(fx,num[0],num[1])\r\n",
        "  return num"
      ],
      "execution_count": 5,
      "outputs": []
    },
    {
      "cell_type": "code",
      "metadata": {
        "id": "1sQ9T-7sr4W-",
        "colab": {
          "base_uri": "https://localhost:8080/"
        },
        "outputId": "b7f660e3-614b-489d-a3b9-aafbdb77193b"
      },
      "source": [
        "fxBisection(math.cos, 3*pi/4,pi/4+.1,300)"
      ],
      "execution_count": 6,
      "outputs": [
        {
          "output_type": "execute_result",
          "data": {
            "text/plain": [
              "[1.5707963267948968, 1.5707963267948966]"
            ]
          },
          "metadata": {
            "tags": []
          },
          "execution_count": 6
        }
      ]
    },
    {
      "cell_type": "code",
      "metadata": {
        "id": "MnUhQeYzr6cu",
        "colab": {
          "base_uri": "https://localhost:8080/"
        },
        "outputId": "96cc8150-8246-4a39-829b-6432abfc3177"
      },
      "source": [
        "fxBisection(math.cos, pi/4,pi/8,20)"
      ],
      "execution_count": 7,
      "outputs": [
        {
          "output_type": "execute_result",
          "data": {
            "text/plain": [
              "[0.3926994562057524, 0.39269908169872414]"
            ]
          },
          "metadata": {
            "tags": []
          },
          "execution_count": 7
        }
      ]
    },
    {
      "cell_type": "code",
      "metadata": {
        "id": "6_anfc3xr8qO",
        "colab": {
          "base_uri": "https://localhost:8080/"
        },
        "outputId": "f8999112-b748-483a-d5bc-f15c872d1a92"
      },
      "source": [
        "x = fxBisection(math.cos, pi/4,pi/8,20)\r\n",
        "print(math.cos(pi/8))\r\n",
        "math.cos(x[0])"
      ],
      "execution_count": 8,
      "outputs": [
        {
          "output_type": "stream",
          "text": [
            "0.9238795325112867\n"
          ],
          "name": "stdout"
        },
        {
          "output_type": "execute_result",
          "data": {
            "text/plain": [
              "0.9238793891935869"
            ]
          },
          "metadata": {
            "tags": []
          },
          "execution_count": 8
        }
      ]
    },
    {
      "cell_type": "code",
      "metadata": {
        "id": "SVZzWBgjFmq1"
      },
      "source": [
        "def lagrangeCoefficient(inputList,outputList,numIn,val):\r\n",
        "  lagCoeff = 1\r\n",
        "  for i in range(len(inputList)):\r\n",
        "    if i == numIn:\r\n",
        "      continue\r\n",
        "    else:\r\n",
        "      lagCoeff = lagCoeff*(val - inputList[i])/(inputList[numIn]-inputList[i])\r\n",
        "  return lagCoeff\r\n",
        "\r\n",
        "def lagrangeInterpolator(inputList, outputList, val):\r\n",
        "  lagInter = 0\r\n",
        "  for i in range(len(inputList)):\r\n",
        "    lagInter = lagInter + lagrangeCoefficient(inputList,outputList,i,val)*outputList[i]\r\n",
        "  return lagInter\r\n",
        "\r\n",
        "inputValues = [pi/4,pi/4+.1,pi/4+.2,(pi/4)*2]\r\n",
        "outputValues = [math.cos(x) for x in inputValues]\r\n"
      ],
      "execution_count": 9,
      "outputs": []
    },
    {
      "cell_type": "code",
      "metadata": {
        "id": "ziCsIB0psTEO",
        "colab": {
          "base_uri": "https://localhost:8080/",
          "height": 281
        },
        "outputId": "0bd551ba-2192-4b71-fc67-cc7b31888ef1"
      },
      "source": [
        "import matplotlib.pyplot as plt\r\n",
        "import numpy as np\r\n",
        "\r\n",
        "x = np.arange( -3,4,.001)\r\n",
        "plt.scatter(inputValues,outputValues)\r\n",
        "plt.plot(x,lagrangeInterpolator(inputValues,outputValues,x))\r\n",
        "plt.title('Graph of Lagrange Interpolator')\r\n",
        "plt.legend(['Lagrange Interpolator'])\r\n",
        "\r\n",
        "plt.show()\r\n"
      ],
      "execution_count": 10,
      "outputs": [
        {
          "output_type": "display_data",
          "data": {
            "image/png": "[encoded data removed]",
            "text/plain": [
              "<Figure size 432x288 with 1 Axes>"
            ]
          },
          "metadata": {
            "tags": [],
            "needs_background": "light"
          }
        }
      ]
    },
    {
      "cell_type": "markdown",
      "metadata": {
        "id": "ZkB90YJD-GlC"
      },
      "source": [
        "# The Finding from Our Project is:"
      ]
    },
    {
      "cell_type": "markdown",
      "metadata": {
        "id": "KpMxxdgqNhL5"
      },
      "source": [
        "**Answer** a)<br>- As we know that Newton's Method is used to find the root of the function. So, first we defined the function and then its derivative. In order to get the iterations we used the for loop. The for loop here gives us the roots of the functions with the iterations we have declared. Then, we have applied the same algorithm to our function using different initial seeds with an error tolerance of 0.01%. Also, we created the table which had the seeds, the roots that we got from the function and the number of iterations."
      ]
    },
    {
      "cell_type": "markdown",
      "metadata": {
        "id": "OK8UR7APWkUd"
      },
      "source": [
        "**Answer** b)<br>- i was surpised by the convergence i honestly thought it would not converg at all. appropriateness of searching for roots of a known function is that it finds the numbers that make the equation 0. How did your initial seed play into the accuracy of our found root is that it told us how close or far away we were"
      ]
    },
    {
      "cell_type": "markdown",
      "metadata": {
        "id": "MvCNU0uRNrVA"
      },
      "source": [
        "**Answer** c) <br> - The main difference between the Newton's Method and other two i.e Secant Method and Bisection Method is in terms of how it converges. First of all, like we discussed earlier, Newton's Method converges quadrilaterally but Bisection method converges linearly. Meanwhile, Secant Method converges superlinearly. Also, secant method requires one new function during each iteration while Newton's method requires two function i.e the first function and its derivative."
      ]
    }
  ]
}