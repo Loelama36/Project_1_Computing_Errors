{
  "nbformat": 4,
  "nbformat_minor": 0,
  "metadata": {
    "colab": {
      "name": "Untitled4.ipynb",
      "provenance": [],
      "authorship_tag": "ABX9TyOKZnyhIkM9rSfamV9m95Kj",
      "include_colab_link": true
    },
    "kernelspec": {
      "name": "python3",
      "display_name": "Python 3"
    }
  },
  "cells": [
    {
      "cell_type": "markdown",
      "metadata": {
        "id": "view-in-github",
        "colab_type": "text"
      },
      "source": [
        "<a href=\"https://colab.research.google.com/github/Loelama36/Project_1_Computing_Errors/blob/main/Discussion_3.ipynb\" target=\"_parent\"><img src=\"https://colab.research.google.com/assets/colab-badge.svg\" alt=\"Open In Colab\"/></a>"
      ]
    },
    {
      "cell_type": "code",
      "metadata": {
        "colab": {
          "base_uri": "https://localhost:8080/"
        },
        "id": "FvxDjIAmQkiW",
        "outputId": "f50cef3e-c8af-4c62-b88d-3a7049a6d3a2"
      },
      "source": [
        "import numpy as np\r\n",
        "from scipy.misc import derivative\r\n",
        "\r\n",
        "x_y = 1     \r\n",
        "x = np.linspace(-1,1,100)\r\n",
        "\r\n",
        "\r\n",
        "def function(x):\r\n",
        "  return 7*x**3+5*x**2+9*x+10\r\n",
        "\r\n",
        "def next(f,x,x_y):\r\n",
        "  slope = derivative(f,x_y,dx=1)\r\n",
        "  return x_y - function(x_y)/slope\r\n",
        "\r\n",
        "for n in range(15):\r\n",
        "  print(x_y)\r\n",
        "  x_y = next(function,x,x_y)\r\n",
        "\r\n"
      ],
      "execution_count": 22,
      "outputs": [
        {
          "output_type": "stream",
          "text": [
            "1\n",
            "0.34042553191489366\n",
            "-0.2969717017748138\n",
            "-0.8066289361115526\n",
            "-0.914038220730893\n",
            "-0.9388473198272128\n",
            "-0.9454081964673624\n",
            "-0.9471972368665819\n",
            "-0.9476890090723769\n",
            "-0.9478244829630293\n",
            "-0.9478618258210229\n",
            "-0.9478721209360205\n",
            "-0.9478749593426566\n",
            "-0.9478757419131577\n",
            "-0.9478759576745991\n"
          ],
          "name": "stdout"
        }
      ]
    },
    {
      "cell_type": "markdown",
      "metadata": {
        "id": "haryK_pTVrY0"
      },
      "source": [
        "The below graph will show that I have found the root for my cubic equation"
      ]
    },
    {
      "cell_type": "code",
      "metadata": {
        "colab": {
          "base_uri": "https://localhost:8080/",
          "height": 295
        },
        "id": "q3k8mpVAVzy7",
        "outputId": "5353cff1-2d23-438f-f171-c2af052116bc"
      },
      "source": [
        "import numpy as np\r\n",
        "import matplotlib.pyplot as plt\r\n",
        "\r\n",
        "\r\n",
        "def graph_value(a,b,c,d,clr,mystr):\r\n",
        "  x = np.arange(-3.0,3.0,0.5)\r\n",
        "  y = [(a*i**3+b*i**2+c*i+d) for i in x]\r\n",
        "  plt.plot(x,y, label = 'cubic', linestyle='-')\r\n",
        "  plt.grid(True)\r\n",
        "  plt.title(\"Graph of Cubical Function\")\r\n",
        "  plt.xlabel(\"X-axis\")\r\n",
        "  plt.ylabel(\"Y-axis\")\r\n",
        "  plt.text(1,5,mystr)\r\n",
        "  plt.show()\r\n",
        "  plt.close()\r\n",
        "\r\n",
        "graph_value(7,5,9,10, 'r', 'f(x)=7x^3+5x^2+9x+10')"
      ],
      "execution_count": 34,
      "outputs": [
        {
          "output_type": "display_data",
          "data": {
            "image/png": "[encoded data removed]",
            "text/plain": [
              "<Figure size 432x288 with 1 Axes>"
            ]
          },
          "metadata": {
            "tags": [],
            "needs_background": "light"
          }
        }
      ]
    },
    {
      "cell_type": "markdown",
      "metadata": {
        "id": "BV_KXdwXdPQm"
      },
      "source": [
        "The above graph shows that the root of the function that I choose is in between -1 and 0.5. And the value that I got above is also around the same range. So, I think my calculation is accurate. "
      ]
    },
    {
      "cell_type": "markdown",
      "metadata": {
        "id": "O7I09fZzcfO4"
      },
      "source": [
        ""
      ]
    }
  ]
}