{
  "nbformat": 4,
  "nbformat_minor": 0,
  "metadata": {
    "colab": {
      "name": "Untitled3.ipynb",
      "provenance": [],
      "include_colab_link": true
    },
    "kernelspec": {
      "name": "python3",
      "display_name": "Python 3"
    }
  },
  "cells": [
    {
      "cell_type": "markdown",
      "metadata": {
        "id": "view-in-github",
        "colab_type": "text"
      },
      "source": [
        "<a href=\"https://colab.research.google.com/github/Loelama36/Project_1_Computing_Errors/blob/main/module1.ipynb\" target=\"_parent\"><img src=\"https://colab.research.google.com/assets/colab-badge.svg\" alt=\"Open In Colab\"/></a>"
      ]
    },
    {
      "cell_type": "code",
      "metadata": {
        "id": "Ym5l8FxE4HJS"
      },
      "source": [
        "def true_error(trueVal, measuredVal)\r\n",
        "  return trueVal - measuredVal\r\n",
        "\r\n",
        "\r\n",
        "def relative_error(trueVal, measuredVal)\r\n",
        "  trueError = trueVal - measuredVal\r\n",
        "  return trueError/ measuredVal\r\n",
        "\r\n",
        "\r\n",
        "def approximate_error(previousMeasured, currentMeasured)\r\n",
        "  return currentMeasured - previousMeasured\r\n",
        "\r\n",
        "def approximate_relative_error(previousMeasured, currenMeasured)\r\n",
        "  approximateError = currentMeasured - previousMeasured\r\n",
        "  return approximateError/currentMeasured\r\n",
        "  "
      ],
      "execution_count": null,
      "outputs": []
    },
    {
      "cell_type": "markdown",
      "metadata": {
        "id": "Bc-Qcu3rAHvT"
      },
      "source": [
        "The above defined functions are the means to check four different types of error which are True Error, Relative Error, Approximate Error and Approximate Relative Error. To make it easy to understand the function, each steps has been provided where necessary.\r\n",
        "\r\n"
      ]
    },
    {
      "cell_type": "code",
      "metadata": {
        "id": "rClq8Vd4Acy5"
      },
      "source": [
        ""
      ],
      "execution_count": null,
      "outputs": []
    }
  ]
}