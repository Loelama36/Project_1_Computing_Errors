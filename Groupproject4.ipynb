{
  "nbformat": 4,
  "nbformat_minor": 0,
  "metadata": {
    "colab": {
      "name": "Copy of groupproject4.ipynb",
      "provenance": [],
      "collapsed_sections": [],
      "include_colab_link": true
    },
    "kernelspec": {
      "name": "python3",
      "display_name": "Python 3"
    }
  },
  "cells": [
    {
      "cell_type": "markdown",
      "metadata": {
        "id": "view-in-github",
        "colab_type": "text"
      },
      "source": [
        "<a href=\"https://colab.research.google.com/github/Loelama36/Project_1_Computing_Errors/blob/main/Groupproject4.ipynb\" target=\"_parent\"><img src=\"https://colab.research.google.com/assets/colab-badge.svg\" alt=\"Open In Colab\"/></a>"
      ]
    },
    {
      "cell_type": "markdown",
      "metadata": {
        "id": "5FP_im8JWrqx"
      },
      "source": [
        "# Project Module 4: Gauss-Jordan Elimination"
      ]
    },
    {
      "cell_type": "markdown",
      "metadata": {
        "id": "JwHr1RNQEd5E"
      },
      "source": [
        "<strong>Sunil Lama<br>\n",
        "Jacob Mantooth<br>\n",
        "Puran Subedi<br>\n",
        "Riwaz Gyawali<br>\n",
        "Instructor: Dr. Nicholas Jacob<br>\n",
        "Numerical Analysis\n",
        "<strong>"
      ]
    },
    {
      "cell_type": "markdown",
      "metadata": {
        "id": "ZxmMT2kvXJlw"
      },
      "source": [
        "Gauss-Jordan Method is a method in solving linear equations in the form of \n",
        "$$\n",
        "\\left\\{\n",
        "\\begin{align}\n",
        "a_{1,1} x_1 +&\\dots a_{1,n} x_n = y_1\\\\\n",
        "&\\vdots\\\\\n",
        "a_{n,1}x_1+&\\dots a_{n,n} x_n = y_n\n",
        "\\end{align}\n",
        "\\right.\n",
        "$$\n"
      ]
    },
    {
      "cell_type": "markdown",
      "metadata": {
        "id": "c4Og-WD_WvAU"
      },
      "source": [
        "## Part 1. Define functions for swapping rows, adding rows and multiplying by a constant"
      ]
    },
    {
      "cell_type": "markdown",
      "metadata": {
        "id": "VlU7EIo_Xak3"
      },
      "source": [
        "Our first assigment was to define a function that can swap rows and multiple a row by a constant then add it to another row "
      ]
    },
    {
      "cell_type": "code",
      "metadata": {
        "id": "LguhBIqltl15"
      },
      "source": [
        "import numpy as np\n",
        "import math\n",
        "\n",
        "#Example of a Matrix that I messed around with\n",
        "A = np.array([[5,2,3],[2,3,4]])\n",
        "\n",
        "\n",
        "# First I defined swapping rows. My function is first you pick the martix you want, then you pick the two rows in that martix that you want to swap.\n",
        "def swap(matrix,row,row2):\n",
        "  matrix[[row, row2]] = matrix[[row2, row]]\n",
        "  return matrix\n",
        "# Now i will define adding rows.First you want to pick your martix then, pick the two function you want to add. just testing here!\n",
        "#def test(matrix,row,row2):\n",
        "  #matrix[[row2]]=matrix[[row]]+matrix[[row2]]\n",
        "  #return matrix\n",
        "\n",
        "# I will now define multiplying a row by a contants and adding it to a row. row2 is the one you want to change and row is the row that is get multiplied by the contant. martix is just the martix that the two rows are in\n",
        "def add(matrix,row2,row,contant):\n",
        "  newrow=matrix[row2,:]+contant*matrix[row,:]\n",
        "  newMatrix = []\n",
        "  for i in range(len(matrix)):\n",
        "    if i != row2:\n",
        "      newMatrix.append(matrix[i,:])\n",
        "    else:\n",
        "      newMatrix.append(newrow)\n",
        "  return np.array(newMatrix)\n",
        "\n",
        "# Finally i will define a function to get a leading one. row is the row you want to get the leading zero in and column being coloum of the number you want to have the leading zero. say i want a a leading zero in A[1,1] you would put 1 for row one and 1 for column 1.  \n",
        "def leadone(matrix,row,column):\n",
        "  newrow=matrix[row,:]/matrix[row,column]\n",
        "  newMatrix = []\n",
        "  for i in range(len(matrix)):\n",
        "    if i != row:\n",
        "      newMatrix.append(matrix[i,:])\n",
        "    else:\n",
        "      newMatrix.append(newrow)\n",
        "  return np.array(newMatrix)"
      ],
      "execution_count": null,
      "outputs": []
    },
    {
      "cell_type": "markdown",
      "metadata": {
        "id": "zxLE8qM-Xt7E"
      },
      "source": [
        "## Part 2. Preforming Gauss-Jordan method on a system of at least three equations and three unknowns"
      ]
    },
    {
      "cell_type": "markdown",
      "metadata": {
        "id": "xYYNE2hwREvy"
      },
      "source": [
        "The system of at least three equations and three unknows that we picked is the following \n",
        "$$\n",
        "\\begin{align}\n",
        "-5x -4y + 5z &= 12\\\\\n",
        "-10x + 4y -6z &= 52\\\\\n",
        "20x + 4y + 2z &= -100\\\\\n",
        "\\end{align}\n",
        "$$"
      ]
    },
    {
      "cell_type": "markdown",
      "metadata": {
        "id": "6N2ZtE9I8gnS"
      },
      "source": [
        "The np.array looks like this "
      ]
    },
    {
      "cell_type": "code",
      "metadata": {
        "colab": {
          "base_uri": "https://localhost:8080/"
        },
        "id": "C3JYsWk3Oh-K",
        "outputId": "f501bea0-43fb-4703-9ca6-24230c394139"
      },
      "source": [
        "B = np.array([[-5,-4,5,12],[-10,4,-6,52],[20,4,2,-100]])\n",
        "B"
      ],
      "execution_count": null,
      "outputs": [
        {
          "output_type": "execute_result",
          "data": {
            "text/plain": [
              "array([[  -5,   -4,    5,   12],\n",
              "       [ -10,    4,   -6,   52],\n",
              "       [  20,    4,    2, -100]])"
            ]
          },
          "metadata": {
            "tags": []
          },
          "execution_count": 17
        }
      ]
    },
    {
      "cell_type": "markdown",
      "metadata": {
        "id": "T05HUq7uH8B1"
      },
      "source": [
        "We will be sloving the equation we picked using the fuction that we defined at the beganning"
      ]
    },
    {
      "cell_type": "markdown",
      "metadata": {
        "id": "fza9IG8W9s4B"
      },
      "source": [
        "First we will multiple row 1 by -2 and add it to row 2"
      ]
    },
    {
      "cell_type": "code",
      "metadata": {
        "colab": {
          "base_uri": "https://localhost:8080/"
        },
        "id": "nXxAcmKy80y3",
        "outputId": "c810caed-4bd4-490e-e883-77ccf67d14ed"
      },
      "source": [
        "B=add(B,1,0,-2)\n",
        "B"
      ],
      "execution_count": null,
      "outputs": [
        {
          "output_type": "execute_result",
          "data": {
            "text/plain": [
              "array([[  -5,   -4,    5,   12],\n",
              "       [   0,   12,  -16,   28],\n",
              "       [  20,    4,    2, -100]])"
            ]
          },
          "metadata": {
            "tags": []
          },
          "execution_count": 18
        }
      ]
    },
    {
      "cell_type": "markdown",
      "metadata": {
        "id": "Qro6iuHU85CM"
      },
      "source": [
        "Next we will multiple row 1 by 4 and add it to row 3"
      ]
    },
    {
      "cell_type": "code",
      "metadata": {
        "colab": {
          "base_uri": "https://localhost:8080/"
        },
        "id": "HVfJHLKo87Aw",
        "outputId": "678b4448-359b-4ae9-9e47-6567d1858f0b"
      },
      "source": [
        "B=add(B,2,0,4)\n",
        "B"
      ],
      "execution_count": null,
      "outputs": [
        {
          "output_type": "execute_result",
          "data": {
            "text/plain": [
              "array([[ -5,  -4,   5,  12],\n",
              "       [  0,  12, -16,  28],\n",
              "       [  0, -12,  22, -52]])"
            ]
          },
          "metadata": {
            "tags": []
          },
          "execution_count": 19
        }
      ]
    },
    {
      "cell_type": "markdown",
      "metadata": {
        "id": "t46ypJQH-Qj0"
      },
      "source": [
        "Now we will multiple row 2 by 1 and add it to row 3"
      ]
    },
    {
      "cell_type": "code",
      "metadata": {
        "colab": {
          "base_uri": "https://localhost:8080/"
        },
        "id": "92mzeQl_8-zg",
        "outputId": "b2227eff-85f6-4e32-b1f7-25bea29f8f07"
      },
      "source": [
        "B=add(B,2,1,1)\n",
        "B"
      ],
      "execution_count": null,
      "outputs": [
        {
          "output_type": "execute_result",
          "data": {
            "text/plain": [
              "array([[ -5,  -4,   5,  12],\n",
              "       [  0,  12, -16,  28],\n",
              "       [  0,   0,   6, -24]])"
            ]
          },
          "metadata": {
            "tags": []
          },
          "execution_count": 20
        }
      ]
    },
    {
      "cell_type": "markdown",
      "metadata": {
        "id": "vD61bvMY-sfW"
      },
      "source": [
        "we will now get a leading one in row 2"
      ]
    },
    {
      "cell_type": "code",
      "metadata": {
        "colab": {
          "base_uri": "https://localhost:8080/"
        },
        "id": "-vD55EqO9E-R",
        "outputId": "3eb01145-7826-4edf-c376-959dcfec3a6b"
      },
      "source": [
        "B=leadone(B,1,1)\n",
        "B"
      ],
      "execution_count": null,
      "outputs": [
        {
          "output_type": "execute_result",
          "data": {
            "text/plain": [
              "array([[ -5.        ,  -4.        ,   5.        ,  12.        ],\n",
              "       [  0.        ,   1.        ,  -1.33333333,   2.33333333],\n",
              "       [  0.        ,   0.        ,   6.        , -24.        ]])"
            ]
          },
          "metadata": {
            "tags": []
          },
          "execution_count": 21
        }
      ]
    },
    {
      "cell_type": "markdown",
      "metadata": {
        "id": "qR1mykY1-ysv"
      },
      "source": [
        "We will multiple row 2 by 4 and add it to row 1"
      ]
    },
    {
      "cell_type": "code",
      "metadata": {
        "colab": {
          "base_uri": "https://localhost:8080/"
        },
        "id": "FqWtVHSo9HWK",
        "outputId": "9baa3690-c360-48ee-a54c-1057bc187f27"
      },
      "source": [
        "B=add(B,0,1,4)\n",
        "B"
      ],
      "execution_count": null,
      "outputs": [
        {
          "output_type": "execute_result",
          "data": {
            "text/plain": [
              "array([[ -5.        ,   0.        ,  -0.33333333,  21.33333333],\n",
              "       [  0.        ,   1.        ,  -1.33333333,   2.33333333],\n",
              "       [  0.        ,   0.        ,   6.        , -24.        ]])"
            ]
          },
          "metadata": {
            "tags": []
          },
          "execution_count": 22
        }
      ]
    },
    {
      "cell_type": "markdown",
      "metadata": {
        "id": "ux4bIDjf-8z5"
      },
      "source": [
        "opps forgot the leading one in row one, guess ill do it now"
      ]
    },
    {
      "cell_type": "code",
      "metadata": {
        "colab": {
          "base_uri": "https://localhost:8080/"
        },
        "id": "1xgT7ZrP9KQx",
        "outputId": "6840663a-6fdf-4b1f-d54a-cbe6433e7674"
      },
      "source": [
        "B=leadone(B,0,0)\n",
        "B"
      ],
      "execution_count": null,
      "outputs": [
        {
          "output_type": "execute_result",
          "data": {
            "text/plain": [
              "array([[  1.        ,  -0.        ,   0.06666667,  -4.26666667],\n",
              "       [  0.        ,   1.        ,  -1.33333333,   2.33333333],\n",
              "       [  0.        ,   0.        ,   6.        , -24.        ]])"
            ]
          },
          "metadata": {
            "tags": []
          },
          "execution_count": 23
        }
      ]
    },
    {
      "cell_type": "markdown",
      "metadata": {
        "id": "JPNLzkqd_ETW"
      },
      "source": [
        "We will now need a leading zero in row 3"
      ]
    },
    {
      "cell_type": "code",
      "metadata": {
        "colab": {
          "base_uri": "https://localhost:8080/"
        },
        "id": "QRGRV6b89Mch",
        "outputId": "541a2a87-429a-4495-8ac9-e6385c82bd9b"
      },
      "source": [
        "B=leadone(B,2,2)\n",
        "B"
      ],
      "execution_count": null,
      "outputs": [
        {
          "output_type": "execute_result",
          "data": {
            "text/plain": [
              "array([[ 1.        , -0.        ,  0.06666667, -4.26666667],\n",
              "       [ 0.        ,  1.        , -1.33333333,  2.33333333],\n",
              "       [ 0.        ,  0.        ,  1.        , -4.        ]])"
            ]
          },
          "metadata": {
            "tags": []
          },
          "execution_count": 24
        }
      ]
    },
    {
      "cell_type": "markdown",
      "metadata": {
        "id": "fIfNBy2u_PAJ"
      },
      "source": [
        "We now will be add row 3 multiple by -B[1,2] to row 2"
      ]
    },
    {
      "cell_type": "code",
      "metadata": {
        "colab": {
          "base_uri": "https://localhost:8080/"
        },
        "id": "ijW5UZ3x9T2C",
        "outputId": "c1957557-4888-4adc-b3c4-cb9301ea1bd8"
      },
      "source": [
        "B=add(B,1,2,-B[1,2])\n",
        "B"
      ],
      "execution_count": null,
      "outputs": [
        {
          "output_type": "execute_result",
          "data": {
            "text/plain": [
              "array([[ 1.        , -0.        ,  0.06666667, -4.26666667],\n",
              "       [ 0.        ,  1.        ,  0.        , -3.        ],\n",
              "       [ 0.        ,  0.        ,  1.        , -4.        ]])"
            ]
          },
          "metadata": {
            "tags": []
          },
          "execution_count": 25
        }
      ]
    },
    {
      "cell_type": "markdown",
      "metadata": {
        "id": "hJy-bXbr_dw9"
      },
      "source": [
        "Finally we will multiple row 3 by -B[0,2] and adding it to row 1"
      ]
    },
    {
      "cell_type": "code",
      "metadata": {
        "colab": {
          "base_uri": "https://localhost:8080/"
        },
        "id": "K9Ex-JW-9WoR",
        "outputId": "3e9a901b-6a80-49a8-8de2-bb9b693e4ab0"
      },
      "source": [
        "B=add(B,0,2,-B[0,2])\n",
        "B"
      ],
      "execution_count": null,
      "outputs": [
        {
          "output_type": "execute_result",
          "data": {
            "text/plain": [
              "array([[ 1., -0.,  0., -4.],\n",
              "       [ 0.,  1.,  0., -3.],\n",
              "       [ 0.,  0.,  1., -4.]])"
            ]
          },
          "metadata": {
            "tags": []
          },
          "execution_count": 26
        }
      ]
    },
    {
      "cell_type": "markdown",
      "metadata": {
        "id": "PqFSgulbY3jE"
      },
      "source": [
        "As you can see the functions that we defined at the beginning worked pretty well and it turns out our problem did have real number solutions. \n",
        "\\begin{align}\n",
        "x=-4, y=-3, and\\ z=-4\n",
        "\\end{align}"
      ]
    },
    {
      "cell_type": "markdown",
      "metadata": {
        "id": "_aLd9Oe1ZJ72"
      },
      "source": [
        "## Part 3. Creating an algorithm for solving a systems of equations following the Gauss-Jordan elimination method and applying it to our system."
      ]
    },
    {
      "cell_type": "code",
      "metadata": {
        "id": "DA-8AtENbbGd"
      },
      "source": [
        "#my gaussJordan function using functions that we created at the beganning \n",
        "def gaussJordan(matrix):\n",
        "  newMatrix = matrix\n",
        "  for pivot in range(len(matrix)):\n",
        "    newMatrix = leadone(newMatrix,pivot,pivot)\n",
        "    for column in range(0,pivot):\n",
        "      newMatrix = add(newMatrix,column,pivot,-newMatrix[column,pivot])\n",
        "    for column in range(pivot+1,len(matrix)):\n",
        "        newMatrix = add(newMatrix,column,pivot,-newMatrix[column,pivot])\n",
        "  return newMatrix\n",
        "# What this does is try to get a leading one the then turn everything else in that column into zeroes then goes to the next column and repeats "
      ],
      "execution_count": null,
      "outputs": []
    },
    {
      "cell_type": "markdown",
      "metadata": {
        "id": "TdxpmOGnZhDI"
      },
      "source": [
        "We will now be using our Guass-Jordan fuction to see if we are right"
      ]
    },
    {
      "cell_type": "code",
      "metadata": {
        "colab": {
          "base_uri": "https://localhost:8080/"
        },
        "id": "w0Cup7AcNyYs",
        "outputId": "b717158a-d959-4b41-a69e-4792d7393793"
      },
      "source": [
        "gaussJordan(B)"
      ],
      "execution_count": null,
      "outputs": [
        {
          "output_type": "execute_result",
          "data": {
            "text/plain": [
              "array([[ 1.,  0.,  0., -4.],\n",
              "       [ 0.,  1.,  0., -3.],\n",
              "       [ 0.,  0.,  1., -4.]])"
            ]
          },
          "metadata": {
            "tags": []
          },
          "execution_count": 24
        }
      ]
    },
    {
      "cell_type": "markdown",
      "metadata": {
        "id": "Mje37szmZrPZ"
      },
      "source": [
        "Looks like our Gauss-Jordan function and us got the same answer!"
      ]
    },
    {
      "cell_type": "markdown",
      "metadata": {
        "id": "1UYBIL4zZ8uQ"
      },
      "source": [
        "## Part 4 Report "
      ]
    },
    {
      "cell_type": "markdown",
      "metadata": {
        "id": "3zttM7-EaAUR"
      },
      "source": [
        "a) First of all, we have imported numpy. After that we made an array for the matrix. Our array is 3*3 array. Since, we are going to need the rows and column in this program, we define the rows and colums and then the function for swapping it. As this method will have lot of swapping of rows and column.After this step we have multiplied our matrix by a constant. In this step we have to make sure that we are trying to change one row and multiply the first row by our constant. Finally, we define the function where we get leading one in a row\n",
        "\n",
        "On the second part of our code block we have 3 different equations where we will perform the Gauss-Jordan process. Using the np.arrary we seperate the constants that we are going to do the operation on and then we put it into array or the matrix. we then used Gauss-Jordan to find the answers \n",
        "In the last part of segment of our code,where we have defined our gauss-jordan algorithm we have defined it at first then we put it into a new value as we will be using this value inorder to perform loop.Using the for loops we finally get the answer in the row-echelon form.\n",
        "\n",
        "\n",
        "b) We will now be discussing the limitations of the algorithm we have created. What could we do differently to fix the issue. Consider what happens with the system\n",
        "\n",
        "\\begin{align}\n",
        "x -2y &= 2\\\\\n",
        "2x - 4y &= 4\\\\\n",
        "\\end{align}\n",
        "\n",
        "Some of the limitation of our algorithm is that if you get all zero in the bottom it breaks. Another limitation in my algorthm is round off error that can happen. The thing that we can do to try and fix these issues are if function for the all zero promblem.  Early this week we tried creating a if function for all zero problem but we couldnt get it to work so we left it out. What happend when you plug in \n",
        "\\begin{align}\n",
        "x -2y &= 2\\\\\n",
        "2x - 4y &= 4\\\\\n",
        "\\end{align}\n",
        "Is that bottom row becomes all zero and crashes the system. This system has INF solution because it is the same line!"
      ]
    }
  ]
}